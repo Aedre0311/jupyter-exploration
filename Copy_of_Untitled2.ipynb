{
  "nbformat": 4,
  "nbformat_minor": 0,
  "metadata": {
    "colab": {
      "provenance": []
    },
    "kernelspec": {
      "name": "python3",
      "display_name": "Python 3"
    },
    "language_info": {
      "name": "python"
    }
  },
  "cells": [
    {
      "cell_type": "markdown",
      "source": [],
      "metadata": {
        "id": "6xxStTwKjk6A"
      }
    },
    {
      "cell_type": "markdown",
      "source": [
        "MY first markdown cell in jupyter"
      ],
      "metadata": {
        "id": "a1ApaKNBnZmZ"
      }
    },
    {
      "cell_type": "code",
      "execution_count": null,
      "metadata": {
        "colab": {
          "base_uri": "https://localhost:8080/"
        },
        "id": "2qJB1dQUdswa",
        "outputId": "b60ef215-7c18-483f-e1b0-c4fe8a3ed891"
      },
      "outputs": [
        {
          "output_type": "stream",
          "name": "stdout",
          "text": [
            "Hello, World\n"
          ]
        }
      ],
      "source": [
        "print(\"Hello, World\")"
      ]
    }
  ]
}